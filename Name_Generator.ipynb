{
  "nbformat": 4,
  "nbformat_minor": 0,
  "metadata": {
    "accelerator": "GPU",
    "colab": {
      "name": "Name Generator.ipynb",
      "provenance": [],
      "collapsed_sections": [],
      "toc_visible": true
    },
    "kernelspec": {
      "display_name": "Python 3",
      "language": "python",
      "name": "python3"
    },
    "language_info": {
      "codemirror_mode": {
        "name": "ipython",
        "version": 3
      },
      "file_extension": ".py",
      "mimetype": "text/x-python",
      "name": "python",
      "nbconvert_exporter": "python",
      "pygments_lexer": "ipython3",
      "version": "3.8.5"
    }
  },
  "cells": [
    {
      "cell_type": "markdown",
      "metadata": {
        "id": "21XXWP7Fpt2L"
      },
      "source": [
        "# Character Name Generator\n",
        "\n",
        "Author: Sarwar Zahan (Sarwar.Zahan@ibm.com)\n",
        "\n",
        "Github repository for the code and data\n",
        "\n",
        "[Character Name Generator](https://github.com/sarwarzahan/character-name-generator)"
      ]
    },
    {
      "cell_type": "markdown",
      "metadata": {
        "id": "H6P0NU5Cpt2R"
      },
      "source": [
        "## Process data"
      ]
    },
    {
      "cell_type": "markdown",
      "metadata": {
        "id": "EOIBjTnkPlkV"
      },
      "source": [
        "###First copy the data from github repo"
      ]
    },
    {
      "cell_type": "code",
      "metadata": {
        "colab": {
          "base_uri": "https://localhost:8080/"
        },
        "id": "srULhalZpt2M",
        "outputId": "60da7b5f-fe33-4d13-a782-c650cef9d228"
      },
      "source": [
        "!git clone https://github.com/sarwarzahan/character-name-generator"
      ],
      "execution_count": 1,
      "outputs": [
        {
          "output_type": "stream",
          "text": [
            "Cloning into 'character-name-generator'...\n",
            "remote: Enumerating objects: 11, done.\u001b[K\n",
            "remote: Counting objects: 100% (11/11), done.\u001b[K\n",
            "remote: Compressing objects: 100% (8/8), done.\u001b[K\n",
            "remote: Total 11 (delta 1), reused 0 (delta 0), pack-reused 0\u001b[K\n",
            "Unpacking objects: 100% (11/11), done.\n"
          ],
          "name": "stdout"
        }
      ]
    },
    {
      "cell_type": "markdown",
      "metadata": {
        "id": "G7G7UUc9P6hv"
      },
      "source": [
        "###Read the data file"
      ]
    },
    {
      "cell_type": "code",
      "metadata": {
        "id": "uq4CLmsLpt2P"
      },
      "source": [
        "file = open(\"character-name-generator/Dinosaur Names Training Data.txt\", \"r\")\n",
        "data = file.read()\n",
        "file.close()"
      ],
      "execution_count": 2,
      "outputs": []
    },
    {
      "cell_type": "markdown",
      "metadata": {
        "id": "x0DyKSjCQNCW"
      },
      "source": [
        "###Mark the end of each name by dot (.)"
      ]
    },
    {
      "cell_type": "code",
      "metadata": {
        "colab": {
          "base_uri": "https://localhost:8080/"
        },
        "id": "5uud9suBVnMM",
        "outputId": "220e5890-9a28-4321-a367-8082a5b5d8f2"
      },
      "source": [
        "data = data.replace('\\n', '.\\n')\n",
        "data = data + '.'\n",
        "print(data[:94])"
      ],
      "execution_count": 3,
      "outputs": [
        {
          "output_type": "stream",
          "text": [
            "Aachenosaurus.\n",
            "Aardonyx.\n",
            "Abdallahsaurus.\n",
            "Abelisaurus.\n",
            "Abrictosaurus.\n",
            "Abrosaurus.\n",
            "Abydosaurus.\n",
            "\n"
          ],
          "name": "stdout"
        }
      ]
    },
    {
      "cell_type": "markdown",
      "metadata": {
        "id": "UToc5903SWh8"
      },
      "source": [
        "###Tokenize the names\n",
        "For reference: https://www.tensorflow.org/api_docs/python/tf/keras/preprocessing/text/Tokenizer"
      ]
    },
    {
      "cell_type": "code",
      "metadata": {
        "id": "95Lo1Yqzpt2T"
      },
      "source": [
        "import tensorflow as tf\n",
        "\n",
        "tokenizer = tf.keras.preprocessing.text.Tokenizer(\n",
        "    filters='!\"#$%&()*+,-/:;<=>?@[\\\\]^_`{|}~\\t ',\n",
        "    lower=True,\n",
        "    split='\\n',\n",
        ")\n",
        "tokenizer.fit_on_texts(data)"
      ],
      "execution_count": 4,
      "outputs": []
    },
    {
      "cell_type": "code",
      "metadata": {
        "id": "EO4-dPM6pt2X",
        "colab": {
          "base_uri": "https://localhost:8080/"
        },
        "outputId": "0d8cf4c1-64a9-4d9c-ff62-80bd1da7e089"
      },
      "source": [
        "char_to_index = tokenizer.word_index\n",
        "print(char_to_index)\n",
        "index_to_char = {v: k for k, v in char_to_index.items()}\n",
        "print(index_to_char)"
      ],
      "execution_count": 5,
      "outputs": [
        {
          "output_type": "stream",
          "text": [
            "{'a': 1, 's': 2, 'u': 3, 'o': 4, 'r': 5, '.': 6, 'n': 7, 'i': 8, 'e': 9, 't': 10, 'l': 11, 'p': 12, 'h': 13, 'c': 14, 'g': 15, 'd': 16, 'm': 17, 'y': 18, 'b': 19, 'k': 20, 'v': 21, 'x': 22, 'z': 23, 'j': 24, 'w': 25, 'f': 26, 'q': 27}\n",
            "{1: 'a', 2: 's', 3: 'u', 4: 'o', 5: 'r', 6: '.', 7: 'n', 8: 'i', 9: 'e', 10: 't', 11: 'l', 12: 'p', 13: 'h', 14: 'c', 15: 'g', 16: 'd', 17: 'm', 18: 'y', 19: 'b', 20: 'k', 21: 'v', 22: 'x', 23: 'z', 24: 'j', 25: 'w', 26: 'f', 27: 'q'}\n"
          ],
          "name": "stdout"
        }
      ]
    },
    {
      "cell_type": "markdown",
      "metadata": {
        "id": "SMwtIw_Bpt2Z"
      },
      "source": [
        "### Convert the names into sequences based on char index"
      ]
    },
    {
      "cell_type": "code",
      "metadata": {
        "id": "N7iQLIXzpt2a",
        "colab": {
          "base_uri": "https://localhost:8080/"
        },
        "outputId": "92d72b75-b795-4966-deed-7429c29e1b42"
      },
      "source": [
        "names = data.splitlines()\n",
        "print(names[0])\n",
        "tokenizer.texts_to_sequences(names[0])"
      ],
      "execution_count": 6,
      "outputs": [
        {
          "output_type": "stream",
          "text": [
            "Aachenosaurus.\n"
          ],
          "name": "stdout"
        },
        {
          "output_type": "execute_result",
          "data": {
            "text/plain": [
              "[[1], [1], [14], [13], [9], [7], [4], [2], [1], [3], [5], [3], [2], [6]]"
            ]
          },
          "metadata": {
            "tags": []
          },
          "execution_count": 6
        }
      ]
    },
    {
      "cell_type": "code",
      "metadata": {
        "id": "P6IsKH1Upt2e"
      },
      "source": [
        "def name_to_sequence(name):\n",
        "  flat_list = []\n",
        "  sequences = tokenizer.texts_to_sequences(name)\n",
        "  for sublist in sequences:\n",
        "    for item in sublist:\n",
        "      flat_list.append(item)\n",
        "  return flat_list"
      ],
      "execution_count": 7,
      "outputs": []
    },
    {
      "cell_type": "code",
      "metadata": {
        "id": "TuLUiMP3pt2g",
        "colab": {
          "base_uri": "https://localhost:8080/"
        },
        "outputId": "b015ab04-a4ae-4c98-dfeb-eac590d95fed"
      },
      "source": [
        "name_to_sequence(names[0])"
      ],
      "execution_count": 8,
      "outputs": [
        {
          "output_type": "execute_result",
          "data": {
            "text/plain": [
              "[1, 1, 14, 13, 9, 7, 4, 2, 1, 3, 5, 3, 2, 6]"
            ]
          },
          "metadata": {
            "tags": []
          },
          "execution_count": 8
        }
      ]
    },
    {
      "cell_type": "code",
      "metadata": {
        "id": "yFUYhimKpt2h"
      },
      "source": [
        "def sequence_to_name(seq):\n",
        "  name = ''\n",
        "  for i in seq:\n",
        "    name += index_to_char[i]\n",
        "  return name; "
      ],
      "execution_count": 9,
      "outputs": []
    },
    {
      "cell_type": "code",
      "metadata": {
        "id": "ROhCqmhLpt2k",
        "colab": {
          "base_uri": "https://localhost:8080/",
          "height": 35
        },
        "outputId": "df24a01f-0d78-49ad-f786-e0ff8c34ecd1"
      },
      "source": [
        "sequence_to_name(name_to_sequence(names[0]))"
      ],
      "execution_count": 10,
      "outputs": [
        {
          "output_type": "execute_result",
          "data": {
            "application/vnd.google.colaboratory.intrinsic+json": {
              "type": "string"
            },
            "text/plain": [
              "'aachenosaurus.'"
            ]
          },
          "metadata": {
            "tags": []
          },
          "execution_count": 10
        }
      ]
    },
    {
      "cell_type": "markdown",
      "metadata": {
        "id": "uCbAzsNjpt2m"
      },
      "source": [
        "### Create all possible list of sequences from the names\n"
      ]
    },
    {
      "cell_type": "code",
      "metadata": {
        "id": "zstNn-0dpt2m"
      },
      "source": [
        "sequences= []\n",
        "for name in names:\n",
        "  seq = name_to_sequence(name)\n",
        "  if len(seq) >= 2:\n",
        "    sequences += [seq[:i] for i in range(2, len(seq) + 1)]"
      ],
      "execution_count": 11,
      "outputs": []
    },
    {
      "cell_type": "code",
      "metadata": {
        "id": "BjRTMysvpt2o",
        "colab": {
          "base_uri": "https://localhost:8080/"
        },
        "outputId": "4d133052-479d-4640-c1bf-484a99cc8905"
      },
      "source": [
        "sequences[:13]"
      ],
      "execution_count": 12,
      "outputs": [
        {
          "output_type": "execute_result",
          "data": {
            "text/plain": [
              "[[1, 1],\n",
              " [1, 1, 14],\n",
              " [1, 1, 14, 13],\n",
              " [1, 1, 14, 13, 9],\n",
              " [1, 1, 14, 13, 9, 7],\n",
              " [1, 1, 14, 13, 9, 7, 4],\n",
              " [1, 1, 14, 13, 9, 7, 4, 2],\n",
              " [1, 1, 14, 13, 9, 7, 4, 2, 1],\n",
              " [1, 1, 14, 13, 9, 7, 4, 2, 1, 3],\n",
              " [1, 1, 14, 13, 9, 7, 4, 2, 1, 3, 5],\n",
              " [1, 1, 14, 13, 9, 7, 4, 2, 1, 3, 5, 3],\n",
              " [1, 1, 14, 13, 9, 7, 4, 2, 1, 3, 5, 3, 2],\n",
              " [1, 1, 14, 13, 9, 7, 4, 2, 1, 3, 5, 3, 2, 6]]"
            ]
          },
          "metadata": {
            "tags": []
          },
          "execution_count": 12
        }
      ]
    },
    {
      "cell_type": "code",
      "metadata": {
        "id": "SR68pu2tpt2q",
        "colab": {
          "base_uri": "https://localhost:8080/"
        },
        "outputId": "de0a6ff3-75be-4992-c45f-073ed3ce1083"
      },
      "source": [
        "max_len = max([len(x) for x in sequences])\n",
        "print(max_len)"
      ],
      "execution_count": 13,
      "outputs": [
        {
          "output_type": "stream",
          "text": [
            "27\n"
          ],
          "name": "stdout"
        }
      ]
    },
    {
      "cell_type": "markdown",
      "metadata": {
        "id": "By0_Y-Fo0qtH"
      },
      "source": [
        "### Pad all sequences for a fixed length"
      ]
    },
    {
      "cell_type": "code",
      "metadata": {
        "id": "h_1BtWO7pt2r",
        "colab": {
          "base_uri": "https://localhost:8080/"
        },
        "outputId": "76286e03-d585-4eb2-ad24-678b0996db91"
      },
      "source": [
        "padded_sequences = tf.keras.preprocessing.sequence.pad_sequences(\n",
        "    sequences, padding='pre',\n",
        "    maxlen=max_len\n",
        ")\n",
        "print(padded_sequences[0])"
      ],
      "execution_count": 14,
      "outputs": [
        {
          "output_type": "stream",
          "text": [
            "[0 0 0 0 0 0 0 0 0 0 0 0 0 0 0 0 0 0 0 0 0 0 0 0 0 1 1]\n"
          ],
          "name": "stdout"
        }
      ]
    },
    {
      "cell_type": "code",
      "metadata": {
        "id": "sPlrLRpSpt2t",
        "colab": {
          "base_uri": "https://localhost:8080/"
        },
        "outputId": "2db4a745-d035-4047-e287-f2489d43ffad"
      },
      "source": [
        "padded_sequences.shape"
      ],
      "execution_count": 15,
      "outputs": [
        {
          "output_type": "execute_result",
          "data": {
            "text/plain": [
              "(18374, 27)"
            ]
          },
          "metadata": {
            "tags": []
          },
          "execution_count": 15
        }
      ]
    },
    {
      "cell_type": "markdown",
      "metadata": {
        "id": "4WPypqx8RfRu"
      },
      "source": [
        "## Create data sets"
      ]
    },
    {
      "cell_type": "code",
      "metadata": {
        "id": "BE4BIeSnpt2v",
        "colab": {
          "base_uri": "https://localhost:8080/"
        },
        "outputId": "4d014841-1edb-4545-abc5-b475d57d755b"
      },
      "source": [
        "x, y = padded_sequences[:, :-1], padded_sequences[:, -1]\n",
        "print(x[0])\n",
        "print(y[0])\n",
        "print(x[1])\n",
        "print(y[1])\n",
        "print(x[2])\n",
        "print(y[2])"
      ],
      "execution_count": 16,
      "outputs": [
        {
          "output_type": "stream",
          "text": [
            "[0 0 0 0 0 0 0 0 0 0 0 0 0 0 0 0 0 0 0 0 0 0 0 0 0 1]\n",
            "1\n",
            "[0 0 0 0 0 0 0 0 0 0 0 0 0 0 0 0 0 0 0 0 0 0 0 0 1 1]\n",
            "14\n",
            "[ 0  0  0  0  0  0  0  0  0  0  0  0  0  0  0  0  0  0  0  0  0  0  0  1\n",
            "  1 14]\n",
            "13\n"
          ],
          "name": "stdout"
        }
      ]
    },
    {
      "cell_type": "code",
      "metadata": {
        "colab": {
          "base_uri": "https://localhost:8080/"
        },
        "id": "mf1ebDny4Ews",
        "outputId": "47f012eb-914f-4663-b7dd-af93222c302a"
      },
      "source": [
        "print(x.shape)\r\n",
        "print(y.shape)"
      ],
      "execution_count": 17,
      "outputs": [
        {
          "output_type": "stream",
          "text": [
            "(18374, 26)\n",
            "(18374,)\n"
          ],
          "name": "stdout"
        }
      ]
    },
    {
      "cell_type": "markdown",
      "metadata": {
        "id": "xy9V4tBEeP-O"
      },
      "source": [
        " ### Split data into training and validation sets (optional)\r\n",
        " If we want to use validation dataset to fine tune the model hyperparameters"
      ]
    },
    {
      "cell_type": "code",
      "metadata": {
        "id": "jWKfJNVXRfRu",
        "colab": {
          "base_uri": "https://localhost:8080/"
        },
        "outputId": "05e09c11-fa58-407b-8de0-547a7e17ca1e"
      },
      "source": [
        "from sklearn.model_selection import train_test_split\n",
        "\n",
        "x_training, x_validation, y_training, y_validation = train_test_split(x, y)\n",
        "print(x_training.shape, y_training.shape)\n",
        "print(x_validation.shape, y_validation.shape)"
      ],
      "execution_count": 18,
      "outputs": [
        {
          "output_type": "stream",
          "text": [
            "(13780, 26) (13780,)\n",
            "(4594, 26) (4594,)\n"
          ],
          "name": "stdout"
        }
      ]
    },
    {
      "cell_type": "markdown",
      "metadata": {
        "id": "6m-7n1Fvz8PJ"
      },
      "source": [
        "## Size of all possible characters + 1. We padded using 0, so we have to count it."
      ]
    },
    {
      "cell_type": "code",
      "metadata": {
        "id": "cgqRZtqnpt2x",
        "colab": {
          "base_uri": "https://localhost:8080/"
        },
        "outputId": "986f1b97-d812-4457-9f79-801ef7a1630f"
      },
      "source": [
        "num_chars = len(char_to_index.keys()) + 1\n",
        "print(num_chars)"
      ],
      "execution_count": 19,
      "outputs": [
        {
          "output_type": "stream",
          "text": [
            "28\n"
          ],
          "name": "stdout"
        }
      ]
    },
    {
      "cell_type": "markdown",
      "metadata": {
        "id": "UsM2fs3_RfRu"
      },
      "source": [
        "## Model\n",
        "\n",
        "### Create the Model\n",
        "\n",
        "1.   Embedding layer to convert the discrete numbers from character representation to a continuous vector representation with lower dimensions for faster processing compared to one hot encoding. As the different types of names or vocabulary is not so large, so feature vector dimension 16 is quite enough. Tried with 8 which gave .8246 whereas 16 gave .8292, increasing more doesn't increasing accuracy that much. Shape of the training data after splitting to examples and labels (which is 26), so input length is max_len-1. - https://keras.io/api/layers/core_layers/embedding/\n",
        "\n",
        "2.   Convolution layer to extract features. Here filter size 512 (guessing to extract 512 different features, tried with different filter size like 256 gave .8360 accuracy and 512 gave .8417 accuracy, increasing filter size improves accuracy a bit much but it is computationally expensive), kernel size 7 (tried with 3 which gave .8195 accuracy, 5 a bit more but after 7 not so much improvement in accuracy), activation tanh (tried with relu but tanh is giving better accuracy faster with the training set), padding causal (output at time t only depends on the previous time steps which is quite common for time series data. We will only consider characters previous to spefic position of a name, not after that). - https://keras.io/api/layers/convolution_layers/convolution1d/\n",
        "\n",
        "3. MaxPool1D to reduce the output dimension of previous layer. It also reduces computational load and prevent overfitting of the data. This layer is quite common after Convolution layer. The default pool_size is 2, which means it will reduce the dimension to half - https://keras.io/api/layers/pooling_layers/max_pooling1d/\n",
        "\n",
        "4. Long Short-Term Memory (LSTM) layer for learning the order of characters and their depecdence in names. 32 is the dimensionality of the output space of this layer (tried different dimensionality like 32 gave .8310 accuracy, 64  gave .8335 accuracy and 128 .8344 accuracy. So increasing the dimension doesn't improve the accuracy that much. I might be wrong, it could be the reason that we have max length 27, so increasing the dimensionality isn't improving the accuracy). - https://keras.io/api/layers/recurrent_layers/lstm/\n",
        "\n",
        "5. Output layer (Dense), here num_chars is the dimentionality of output and activation softmax which is quite common for multi-class classification problem. The softmax activation assign probability of each character in a sequence when generating names and it helps the training converge much faster. - https://keras.io/api/layers/core_layers/dense/\n",
        "\n",
        "### Compile the Model\n",
        "\n",
        "https://www.tensorflow.org/api_docs/python/tf/keras/Model#compile\n",
        "\n",
        "1.   The target is interger representation of character (through index) in a multi-class classification problem, so the loss is sparse_categorical_crossentropy\n",
        "2.   Adam optimiztion algorithm is quite efficient compared to others. \n",
        "\n"
      ]
    },
    {
      "cell_type": "code",
      "metadata": {
        "id": "2dPlCmTYRfRu",
        "colab": {
          "base_uri": "https://localhost:8080/",
          "height": 950
        },
        "outputId": "8c4191d9-20b1-4b60-bd18-fb63b03e570d"
      },
      "source": [
        "from tensorflow.keras.models import Sequential\n",
        "from tensorflow.keras.layers import Embedding, Conv1D, MaxPool1D, LSTM\n",
        "from tensorflow.keras.layers import Bidirectional, Dense\n",
        "from IPython.display import Image, display\n",
        "\n",
        "model = Sequential([\n",
        "                    Embedding(num_chars, 16, input_length=max_len-1),\n",
        "                    Conv1D(512, 7, activation='tanh', padding='causal'),\n",
        "                    MaxPool1D(),\n",
        "                    LSTM(32),\n",
        "                    Dense(num_chars, activation='softmax')\n",
        "])\n",
        "\n",
        "model_image = tf.keras.utils.plot_model(\n",
        "    model,\n",
        "    to_file=\"model.png\",\n",
        "    show_shapes=True,\n",
        "    show_dtype=False,\n",
        "    show_layer_names=True,\n",
        "    rankdir=\"TB\",\n",
        "    expand_nested=True,\n",
        "    dpi=96,\n",
        ")\n",
        "display(model_image)\n",
        "\n",
        "model.compile(\n",
        "    loss='sparse_categorical_crossentropy',\n",
        "    optimizer='adam',\n",
        "    metrics=['accuracy']\n",
        ")\n",
        "\n",
        "model.summary()"
      ],
      "execution_count": 20,
      "outputs": [
        {
          "output_type": "display_data",
          "data": {
            "image/png": "[encoded data removed]",
            "text/plain": [
              "<IPython.core.display.Image object>"
            ]
          },
          "metadata": {
            "tags": []
          }
        },
        {
          "output_type": "stream",
          "text": [
            "Model: \"sequential\"\n",
            "_________________________________________________________________\n",
            "Layer (type)                 Output Shape              Param #   \n",
            "=================================================================\n",
            "embedding (Embedding)        (None, 26, 16)            448       \n",
            "_________________________________________________________________\n",
            "conv1d (Conv1D)              (None, 26, 512)           57856     \n",
            "_________________________________________________________________\n",
            "max_pooling1d (MaxPooling1D) (None, 13, 512)           0         \n",
            "_________________________________________________________________\n",
            "lstm (LSTM)                  (None, 32)                69760     \n",
            "_________________________________________________________________\n",
            "dense (Dense)                (None, 28)                924       \n",
            "=================================================================\n",
            "Total params: 128,988\n",
            "Trainable params: 128,988\n",
            "Non-trainable params: 0\n",
            "_________________________________________________________________\n"
          ],
          "name": "stdout"
        }
      ]
    },
    {
      "cell_type": "markdown",
      "metadata": {
        "id": "du_WBvUHRfRu"
      },
      "source": [
        "## Train the Model\r\n",
        "\r\n",
        "Train the model maximum 200 times, If the accuracy doesn't improve in 50 epochs, stop the training. \r\n",
        "\r\n",
        "Using the validation set stops the training quite early as the validation accuracy doesn't improve any more. If there is more training data and validation data is more scrambled, that might improve the accuracy for validation data.\r\n",
        "\r\n",
        "If validation set is used, replace the following line with this:\r\n",
        "\r\n",
        "h = model.fit(\r\n",
        "    x_training, y_training,\r\n",
        "    validation_data=(x_validation, y_validation),\r\n",
        "    epochs=200, verbose=2,\r\n",
        "    callbacks=[\r\n",
        "               tf.keras.callbacks.EarlyStopping(monitor='val_accuracy', patience=50)\r\n",
        "    ]\r\n",
        ")"
      ]
    },
    {
      "cell_type": "code",
      "metadata": {
        "id": "j0Ssl4qupt22",
        "colab": {
          "base_uri": "https://localhost:8080/"
        },
        "outputId": "a068ca03-09d1-4f8c-ed6f-09d165acbd57"
      },
      "source": [
        "h = model.fit(\n",
        "    x, y,\n",
        "    epochs=200, verbose=2,\n",
        "    callbacks=[\n",
        "               tf.keras.callbacks.EarlyStopping(monitor='accuracy', patience=50)\n",
        "    ]\n",
        ")"
      ],
      "execution_count": 21,
      "outputs": [
        {
          "output_type": "stream",
          "text": [
            "Epoch 1/200\n",
            "575/575 - 36s - loss: 2.2494 - accuracy: 0.3431\n",
            "Epoch 2/200\n",
            "575/575 - 2s - loss: 1.8394 - accuracy: 0.4558\n",
            "Epoch 3/200\n",
            "575/575 - 2s - loss: 1.7250 - accuracy: 0.4887\n",
            "Epoch 4/200\n",
            "575/575 - 2s - loss: 1.6460 - accuracy: 0.5102\n",
            "Epoch 5/200\n",
            "575/575 - 2s - loss: 1.5831 - accuracy: 0.5266\n",
            "Epoch 6/200\n",
            "575/575 - 2s - loss: 1.5319 - accuracy: 0.5428\n",
            "Epoch 7/200\n",
            "575/575 - 2s - loss: 1.4868 - accuracy: 0.5575\n",
            "Epoch 8/200\n",
            "575/575 - 2s - loss: 1.4433 - accuracy: 0.5702\n",
            "Epoch 9/200\n",
            "575/575 - 2s - loss: 1.4034 - accuracy: 0.5814\n",
            "Epoch 10/200\n",
            "575/575 - 2s - loss: 1.3634 - accuracy: 0.5930\n",
            "Epoch 11/200\n",
            "575/575 - 2s - loss: 1.3224 - accuracy: 0.6062\n",
            "Epoch 12/200\n",
            "575/575 - 2s - loss: 1.2837 - accuracy: 0.6163\n",
            "Epoch 13/200\n",
            "575/575 - 2s - loss: 1.2475 - accuracy: 0.6269\n",
            "Epoch 14/200\n",
            "575/575 - 2s - loss: 1.2105 - accuracy: 0.6345\n",
            "Epoch 15/200\n",
            "575/575 - 2s - loss: 1.1706 - accuracy: 0.6498\n",
            "Epoch 16/200\n",
            "575/575 - 2s - loss: 1.1369 - accuracy: 0.6580\n",
            "Epoch 17/200\n",
            "575/575 - 2s - loss: 1.1026 - accuracy: 0.6713\n",
            "Epoch 18/200\n",
            "575/575 - 2s - loss: 1.0696 - accuracy: 0.6794\n",
            "Epoch 19/200\n",
            "575/575 - 2s - loss: 1.0372 - accuracy: 0.6901\n",
            "Epoch 20/200\n",
            "575/575 - 2s - loss: 1.0019 - accuracy: 0.7000\n",
            "Epoch 21/200\n",
            "575/575 - 2s - loss: 0.9726 - accuracy: 0.7104\n",
            "Epoch 22/200\n",
            "575/575 - 2s - loss: 0.9433 - accuracy: 0.7183\n",
            "Epoch 23/200\n",
            "575/575 - 2s - loss: 0.9151 - accuracy: 0.7283\n",
            "Epoch 24/200\n",
            "575/575 - 2s - loss: 0.8891 - accuracy: 0.7346\n",
            "Epoch 25/200\n",
            "575/575 - 2s - loss: 0.8621 - accuracy: 0.7430\n",
            "Epoch 26/200\n",
            "575/575 - 2s - loss: 0.8389 - accuracy: 0.7491\n",
            "Epoch 27/200\n",
            "575/575 - 2s - loss: 0.8168 - accuracy: 0.7570\n",
            "Epoch 28/200\n",
            "575/575 - 2s - loss: 0.7924 - accuracy: 0.7622\n",
            "Epoch 29/200\n",
            "575/575 - 2s - loss: 0.7727 - accuracy: 0.7679\n",
            "Epoch 30/200\n",
            "575/575 - 2s - loss: 0.7571 - accuracy: 0.7734\n",
            "Epoch 31/200\n",
            "575/575 - 2s - loss: 0.7378 - accuracy: 0.7767\n",
            "Epoch 32/200\n",
            "575/575 - 2s - loss: 0.7223 - accuracy: 0.7823\n",
            "Epoch 33/200\n",
            "575/575 - 2s - loss: 0.7076 - accuracy: 0.7863\n",
            "Epoch 34/200\n",
            "575/575 - 2s - loss: 0.6910 - accuracy: 0.7894\n",
            "Epoch 35/200\n",
            "575/575 - 2s - loss: 0.6819 - accuracy: 0.7918\n",
            "Epoch 36/200\n",
            "575/575 - 2s - loss: 0.6649 - accuracy: 0.7986\n",
            "Epoch 37/200\n",
            "575/575 - 2s - loss: 0.6566 - accuracy: 0.8000\n",
            "Epoch 38/200\n",
            "575/575 - 2s - loss: 0.6454 - accuracy: 0.7996\n",
            "Epoch 39/200\n",
            "575/575 - 2s - loss: 0.6327 - accuracy: 0.8053\n",
            "Epoch 40/200\n",
            "575/575 - 2s - loss: 0.6215 - accuracy: 0.8049\n",
            "Epoch 41/200\n",
            "575/575 - 2s - loss: 0.6141 - accuracy: 0.8068\n",
            "Epoch 42/200\n",
            "575/575 - 2s - loss: 0.6075 - accuracy: 0.8072\n",
            "Epoch 43/200\n",
            "575/575 - 2s - loss: 0.5982 - accuracy: 0.8121\n",
            "Epoch 44/200\n",
            "575/575 - 2s - loss: 0.5883 - accuracy: 0.8127\n",
            "Epoch 45/200\n",
            "575/575 - 2s - loss: 0.5861 - accuracy: 0.8128\n",
            "Epoch 46/200\n",
            "575/575 - 2s - loss: 0.5753 - accuracy: 0.8128\n",
            "Epoch 47/200\n",
            "575/575 - 2s - loss: 0.5656 - accuracy: 0.8165\n",
            "Epoch 48/200\n",
            "575/575 - 2s - loss: 0.5622 - accuracy: 0.8174\n",
            "Epoch 49/200\n",
            "575/575 - 2s - loss: 0.5535 - accuracy: 0.8187\n",
            "Epoch 50/200\n",
            "575/575 - 2s - loss: 0.5506 - accuracy: 0.8187\n",
            "Epoch 51/200\n",
            "575/575 - 2s - loss: 0.5456 - accuracy: 0.8183\n",
            "Epoch 52/200\n",
            "575/575 - 2s - loss: 0.5412 - accuracy: 0.8211\n",
            "Epoch 53/200\n",
            "575/575 - 2s - loss: 0.5393 - accuracy: 0.8196\n",
            "Epoch 54/200\n",
            "575/575 - 2s - loss: 0.5336 - accuracy: 0.8227\n",
            "Epoch 55/200\n",
            "575/575 - 2s - loss: 0.5356 - accuracy: 0.8223\n",
            "Epoch 56/200\n",
            "575/575 - 2s - loss: 0.5244 - accuracy: 0.8234\n",
            "Epoch 57/200\n",
            "575/575 - 2s - loss: 0.5174 - accuracy: 0.8254\n",
            "Epoch 58/200\n",
            "575/575 - 2s - loss: 0.5176 - accuracy: 0.8248\n",
            "Epoch 59/200\n",
            "575/575 - 2s - loss: 0.5149 - accuracy: 0.8273\n",
            "Epoch 60/200\n",
            "575/575 - 2s - loss: 0.5102 - accuracy: 0.8281\n",
            "Epoch 61/200\n",
            "575/575 - 2s - loss: 0.5072 - accuracy: 0.8261\n",
            "Epoch 62/200\n",
            "575/575 - 2s - loss: 0.5056 - accuracy: 0.8274\n",
            "Epoch 63/200\n",
            "575/575 - 2s - loss: 0.4996 - accuracy: 0.8287\n",
            "Epoch 64/200\n",
            "575/575 - 2s - loss: 0.4977 - accuracy: 0.8274\n",
            "Epoch 65/200\n",
            "575/575 - 2s - loss: 0.4985 - accuracy: 0.8270\n",
            "Epoch 66/200\n",
            "575/575 - 2s - loss: 0.5041 - accuracy: 0.8267\n",
            "Epoch 67/200\n",
            "575/575 - 2s - loss: 0.4978 - accuracy: 0.8287\n",
            "Epoch 68/200\n",
            "575/575 - 2s - loss: 0.4884 - accuracy: 0.8315\n",
            "Epoch 69/200\n",
            "575/575 - 2s - loss: 0.4825 - accuracy: 0.8306\n",
            "Epoch 70/200\n",
            "575/575 - 2s - loss: 0.4853 - accuracy: 0.8304\n",
            "Epoch 71/200\n",
            "575/575 - 2s - loss: 0.4854 - accuracy: 0.8311\n",
            "Epoch 72/200\n",
            "575/575 - 2s - loss: 0.4837 - accuracy: 0.8283\n",
            "Epoch 73/200\n",
            "575/575 - 2s - loss: 0.4791 - accuracy: 0.8326\n",
            "Epoch 74/200\n",
            "575/575 - 2s - loss: 0.4747 - accuracy: 0.8319\n",
            "Epoch 75/200\n",
            "575/575 - 2s - loss: 0.4751 - accuracy: 0.8307\n",
            "Epoch 76/200\n",
            "575/575 - 2s - loss: 0.4748 - accuracy: 0.8318\n",
            "Epoch 77/200\n",
            "575/575 - 2s - loss: 0.4803 - accuracy: 0.8310\n",
            "Epoch 78/200\n",
            "575/575 - 2s - loss: 0.4792 - accuracy: 0.8310\n",
            "Epoch 79/200\n",
            "575/575 - 2s - loss: 0.4708 - accuracy: 0.8332\n",
            "Epoch 80/200\n",
            "575/575 - 2s - loss: 0.4651 - accuracy: 0.8336\n",
            "Epoch 81/200\n",
            "575/575 - 2s - loss: 0.4641 - accuracy: 0.8318\n",
            "Epoch 82/200\n",
            "575/575 - 2s - loss: 0.4651 - accuracy: 0.8356\n",
            "Epoch 83/200\n",
            "575/575 - 2s - loss: 0.4691 - accuracy: 0.8342\n",
            "Epoch 84/200\n",
            "575/575 - 2s - loss: 0.4692 - accuracy: 0.8321\n",
            "Epoch 85/200\n",
            "575/575 - 2s - loss: 0.4702 - accuracy: 0.8332\n",
            "Epoch 86/200\n",
            "575/575 - 2s - loss: 0.4615 - accuracy: 0.8350\n",
            "Epoch 87/200\n",
            "575/575 - 2s - loss: 0.4580 - accuracy: 0.8326\n",
            "Epoch 88/200\n",
            "575/575 - 2s - loss: 0.4579 - accuracy: 0.8331\n",
            "Epoch 89/200\n",
            "575/575 - 2s - loss: 0.4580 - accuracy: 0.8357\n",
            "Epoch 90/200\n",
            "575/575 - 2s - loss: 0.4563 - accuracy: 0.8332\n",
            "Epoch 91/200\n",
            "575/575 - 2s - loss: 0.4557 - accuracy: 0.8350\n",
            "Epoch 92/200\n",
            "575/575 - 2s - loss: 0.4625 - accuracy: 0.8313\n",
            "Epoch 93/200\n",
            "575/575 - 2s - loss: 0.4589 - accuracy: 0.8340\n",
            "Epoch 94/200\n",
            "575/575 - 2s - loss: 0.4549 - accuracy: 0.8354\n",
            "Epoch 95/200\n",
            "575/575 - 2s - loss: 0.4520 - accuracy: 0.8350\n",
            "Epoch 96/200\n",
            "575/575 - 2s - loss: 0.4512 - accuracy: 0.8349\n",
            "Epoch 97/200\n",
            "575/575 - 2s - loss: 0.4501 - accuracy: 0.8360\n",
            "Epoch 98/200\n",
            "575/575 - 2s - loss: 0.4532 - accuracy: 0.8335\n",
            "Epoch 99/200\n",
            "575/575 - 2s - loss: 0.4499 - accuracy: 0.8365\n",
            "Epoch 100/200\n",
            "575/575 - 2s - loss: 0.4447 - accuracy: 0.8368\n",
            "Epoch 101/200\n",
            "575/575 - 2s - loss: 0.4456 - accuracy: 0.8346\n",
            "Epoch 102/200\n",
            "575/575 - 2s - loss: 0.4453 - accuracy: 0.8357\n",
            "Epoch 103/200\n",
            "575/575 - 2s - loss: 0.4483 - accuracy: 0.8356\n",
            "Epoch 104/200\n",
            "575/575 - 2s - loss: 0.4572 - accuracy: 0.8329\n",
            "Epoch 105/200\n",
            "575/575 - 2s - loss: 0.4539 - accuracy: 0.8350\n",
            "Epoch 106/200\n",
            "575/575 - 2s - loss: 0.4462 - accuracy: 0.8349\n",
            "Epoch 107/200\n",
            "575/575 - 2s - loss: 0.4427 - accuracy: 0.8356\n",
            "Epoch 108/200\n",
            "575/575 - 2s - loss: 0.4393 - accuracy: 0.8350\n",
            "Epoch 109/200\n",
            "575/575 - 2s - loss: 0.4404 - accuracy: 0.8356\n",
            "Epoch 110/200\n",
            "575/575 - 2s - loss: 0.4443 - accuracy: 0.8343\n",
            "Epoch 111/200\n",
            "575/575 - 2s - loss: 0.4505 - accuracy: 0.8353\n",
            "Epoch 112/200\n",
            "575/575 - 2s - loss: 0.4552 - accuracy: 0.8343\n",
            "Epoch 113/200\n",
            "575/575 - 2s - loss: 0.4450 - accuracy: 0.8353\n",
            "Epoch 114/200\n",
            "575/575 - 2s - loss: 0.4377 - accuracy: 0.8363\n",
            "Epoch 115/200\n",
            "575/575 - 2s - loss: 0.4380 - accuracy: 0.8381\n",
            "Epoch 116/200\n",
            "575/575 - 2s - loss: 0.4341 - accuracy: 0.8380\n",
            "Epoch 117/200\n",
            "575/575 - 2s - loss: 0.4345 - accuracy: 0.8371\n",
            "Epoch 118/200\n",
            "575/575 - 2s - loss: 0.4395 - accuracy: 0.8360\n",
            "Epoch 119/200\n",
            "575/575 - 2s - loss: 0.4509 - accuracy: 0.8343\n",
            "Epoch 120/200\n",
            "575/575 - 2s - loss: 0.4528 - accuracy: 0.8335\n",
            "Epoch 121/200\n",
            "575/575 - 2s - loss: 0.4375 - accuracy: 0.8384\n",
            "Epoch 122/200\n",
            "575/575 - 2s - loss: 0.4332 - accuracy: 0.8373\n",
            "Epoch 123/200\n",
            "575/575 - 2s - loss: 0.4330 - accuracy: 0.8392\n",
            "Epoch 124/200\n",
            "575/575 - 2s - loss: 0.4336 - accuracy: 0.8368\n",
            "Epoch 125/200\n",
            "575/575 - 2s - loss: 0.4384 - accuracy: 0.8360\n",
            "Epoch 126/200\n",
            "575/575 - 2s - loss: 0.4424 - accuracy: 0.8349\n",
            "Epoch 127/200\n",
            "575/575 - 2s - loss: 0.4421 - accuracy: 0.8368\n",
            "Epoch 128/200\n",
            "575/575 - 2s - loss: 0.4396 - accuracy: 0.8375\n",
            "Epoch 129/200\n",
            "575/575 - 2s - loss: 0.4362 - accuracy: 0.8387\n",
            "Epoch 130/200\n",
            "575/575 - 2s - loss: 0.4330 - accuracy: 0.8392\n",
            "Epoch 131/200\n",
            "575/575 - 2s - loss: 0.4325 - accuracy: 0.8383\n",
            "Epoch 132/200\n",
            "575/575 - 2s - loss: 0.4338 - accuracy: 0.8374\n",
            "Epoch 133/200\n",
            "575/575 - 2s - loss: 0.4343 - accuracy: 0.8384\n",
            "Epoch 134/200\n",
            "575/575 - 2s - loss: 0.4327 - accuracy: 0.8360\n",
            "Epoch 135/200\n",
            "575/575 - 2s - loss: 0.4319 - accuracy: 0.8377\n",
            "Epoch 136/200\n",
            "575/575 - 2s - loss: 0.4383 - accuracy: 0.8356\n",
            "Epoch 137/200\n",
            "575/575 - 2s - loss: 0.4465 - accuracy: 0.8344\n",
            "Epoch 138/200\n",
            "575/575 - 2s - loss: 0.4367 - accuracy: 0.8370\n",
            "Epoch 139/200\n",
            "575/575 - 2s - loss: 0.4306 - accuracy: 0.8386\n",
            "Epoch 140/200\n",
            "575/575 - 2s - loss: 0.4270 - accuracy: 0.8392\n",
            "Epoch 141/200\n",
            "575/575 - 2s - loss: 0.4271 - accuracy: 0.8384\n",
            "Epoch 142/200\n",
            "575/575 - 2s - loss: 0.4282 - accuracy: 0.8378\n",
            "Epoch 143/200\n",
            "575/575 - 2s - loss: 0.4308 - accuracy: 0.8380\n",
            "Epoch 144/200\n",
            "575/575 - 2s - loss: 0.4355 - accuracy: 0.8384\n",
            "Epoch 145/200\n",
            "575/575 - 2s - loss: 0.4436 - accuracy: 0.8353\n",
            "Epoch 146/200\n",
            "575/575 - 2s - loss: 0.4363 - accuracy: 0.8382\n",
            "Epoch 147/200\n",
            "575/575 - 2s - loss: 0.4297 - accuracy: 0.8384\n",
            "Epoch 148/200\n",
            "575/575 - 2s - loss: 0.4260 - accuracy: 0.8389\n",
            "Epoch 149/200\n",
            "575/575 - 2s - loss: 0.4266 - accuracy: 0.8399\n",
            "Epoch 150/200\n",
            "575/575 - 2s - loss: 0.4245 - accuracy: 0.8398\n",
            "Epoch 151/200\n",
            "575/575 - 2s - loss: 0.4245 - accuracy: 0.8391\n",
            "Epoch 152/200\n",
            "575/575 - 2s - loss: 0.4303 - accuracy: 0.8388\n",
            "Epoch 153/200\n",
            "575/575 - 2s - loss: 0.4330 - accuracy: 0.8382\n",
            "Epoch 154/200\n",
            "575/575 - 2s - loss: 0.4371 - accuracy: 0.8360\n",
            "Epoch 155/200\n",
            "575/575 - 2s - loss: 0.4402 - accuracy: 0.8365\n",
            "Epoch 156/200\n",
            "575/575 - 2s - loss: 0.4336 - accuracy: 0.8368\n",
            "Epoch 157/200\n",
            "575/575 - 2s - loss: 0.4270 - accuracy: 0.8390\n",
            "Epoch 158/200\n",
            "575/575 - 2s - loss: 0.4234 - accuracy: 0.8409\n",
            "Epoch 159/200\n",
            "575/575 - 2s - loss: 0.4228 - accuracy: 0.8388\n",
            "Epoch 160/200\n",
            "575/575 - 2s - loss: 0.4239 - accuracy: 0.8390\n",
            "Epoch 161/200\n",
            "575/575 - 2s - loss: 0.4238 - accuracy: 0.8397\n",
            "Epoch 162/200\n",
            "575/575 - 2s - loss: 0.4276 - accuracy: 0.8393\n",
            "Epoch 163/200\n",
            "575/575 - 2s - loss: 0.4290 - accuracy: 0.8378\n",
            "Epoch 164/200\n",
            "575/575 - 2s - loss: 0.4424 - accuracy: 0.8346\n",
            "Epoch 165/200\n",
            "575/575 - 2s - loss: 0.4362 - accuracy: 0.8362\n",
            "Epoch 166/200\n",
            "575/575 - 2s - loss: 0.4238 - accuracy: 0.8398\n",
            "Epoch 167/200\n",
            "575/575 - 2s - loss: 0.4213 - accuracy: 0.8385\n",
            "Epoch 168/200\n",
            "575/575 - 2s - loss: 0.4216 - accuracy: 0.8395\n",
            "Epoch 169/200\n",
            "575/575 - 2s - loss: 0.4207 - accuracy: 0.8391\n",
            "Epoch 170/200\n",
            "575/575 - 2s - loss: 0.4254 - accuracy: 0.8371\n",
            "Epoch 171/200\n",
            "575/575 - 2s - loss: 0.4250 - accuracy: 0.8394\n",
            "Epoch 172/200\n",
            "575/575 - 2s - loss: 0.4359 - accuracy: 0.8382\n",
            "Epoch 173/200\n",
            "575/575 - 2s - loss: 0.4391 - accuracy: 0.8361\n",
            "Epoch 174/200\n",
            "575/575 - 2s - loss: 0.4261 - accuracy: 0.8371\n",
            "Epoch 175/200\n",
            "575/575 - 2s - loss: 0.4201 - accuracy: 0.8400\n",
            "Epoch 176/200\n",
            "575/575 - 2s - loss: 0.4204 - accuracy: 0.8406\n",
            "Epoch 177/200\n",
            "575/575 - 2s - loss: 0.4212 - accuracy: 0.8395\n",
            "Epoch 178/200\n",
            "575/575 - 2s - loss: 0.4229 - accuracy: 0.8390\n",
            "Epoch 179/200\n",
            "575/575 - 2s - loss: 0.4255 - accuracy: 0.8380\n",
            "Epoch 180/200\n",
            "575/575 - 2s - loss: 0.4206 - accuracy: 0.8400\n",
            "Epoch 181/200\n",
            "575/575 - 2s - loss: 0.4238 - accuracy: 0.8386\n",
            "Epoch 182/200\n",
            "575/575 - 2s - loss: 0.4411 - accuracy: 0.8354\n",
            "Epoch 183/200\n",
            "575/575 - 2s - loss: 0.4295 - accuracy: 0.8357\n",
            "Epoch 184/200\n",
            "575/575 - 2s - loss: 0.4218 - accuracy: 0.8398\n",
            "Epoch 185/200\n",
            "575/575 - 2s - loss: 0.4175 - accuracy: 0.8419\n",
            "Epoch 186/200\n",
            "575/575 - 2s - loss: 0.4168 - accuracy: 0.8416\n",
            "Epoch 187/200\n",
            "575/575 - 2s - loss: 0.4177 - accuracy: 0.8422\n",
            "Epoch 188/200\n",
            "575/575 - 2s - loss: 0.4199 - accuracy: 0.8391\n",
            "Epoch 189/200\n",
            "575/575 - 2s - loss: 0.4274 - accuracy: 0.8381\n",
            "Epoch 190/200\n",
            "575/575 - 2s - loss: 0.4255 - accuracy: 0.8382\n",
            "Epoch 191/200\n",
            "575/575 - 2s - loss: 0.4282 - accuracy: 0.8385\n",
            "Epoch 192/200\n",
            "575/575 - 2s - loss: 0.4300 - accuracy: 0.8393\n",
            "Epoch 193/200\n",
            "575/575 - 2s - loss: 0.4222 - accuracy: 0.8397\n",
            "Epoch 194/200\n",
            "575/575 - 2s - loss: 0.4186 - accuracy: 0.8399\n",
            "Epoch 195/200\n",
            "575/575 - 2s - loss: 0.4208 - accuracy: 0.8388\n",
            "Epoch 196/200\n",
            "575/575 - 2s - loss: 0.4213 - accuracy: 0.8374\n",
            "Epoch 197/200\n",
            "575/575 - 2s - loss: 0.4214 - accuracy: 0.8416\n",
            "Epoch 198/200\n",
            "575/575 - 2s - loss: 0.4323 - accuracy: 0.8370\n",
            "Epoch 199/200\n",
            "575/575 - 2s - loss: 0.4261 - accuracy: 0.8399\n",
            "Epoch 200/200\n",
            "575/575 - 2s - loss: 0.4208 - accuracy: 0.8406\n"
          ],
          "name": "stdout"
        }
      ]
    },
    {
      "cell_type": "markdown",
      "metadata": {
        "id": "Vw9FnoK2IRyG"
      },
      "source": [
        "To compare with validation set, uncomment the commented line. "
      ]
    },
    {
      "cell_type": "code",
      "metadata": {
        "id": "AkkG3lEOm4OS",
        "colab": {
          "base_uri": "https://localhost:8080/",
          "height": 265
        },
        "outputId": "8ecc2761-b40f-4ce2-f274-9d2bbb5bf125"
      },
      "source": [
        "from matplotlib import pyplot as plt\n",
        "\n",
        "epochs_ran = len(h.history['loss'])\n",
        "\n",
        "#plt.plot(range(0, epochs_ran), h.history['val_accuracy'], label='Validation')\n",
        "plt.plot(range(0, epochs_ran), h.history['accuracy'], label='Training')\n",
        "plt.legend()\n",
        "plt.show()"
      ],
      "execution_count": 22,
      "outputs": [
        {
          "output_type": "display_data",
          "data": {
            "image/png": "[encoded data removed]",
            "text/plain": [
              "<Figure size 432x288 with 1 Axes>"
            ]
          },
          "metadata": {
            "tags": [],
            "needs_background": "light"
          }
        }
      ]
    },
    {
      "cell_type": "markdown",
      "metadata": {
        "id": "j74nkW5xRfRu"
      },
      "source": [
        "## Generate the names from starting characters"
      ]
    },
    {
      "cell_type": "code",
      "metadata": {
        "id": "9f50aTRcpt24"
      },
      "source": [
        "def generate_name(starting_characters):\n",
        "  for i in range(0, 50):\n",
        "    sequence = name_to_sequence(starting_characters)\n",
        "    padded = tf.keras.preprocessing.sequence.pad_sequences([sequence], padding='pre',\n",
        "                                                           maxlen=max_len-1,\n",
        "                                                           truncating='pre')\n",
        "    prediction = model.predict(padded)[0]\n",
        "    prediction_char = index_to_char[tf.argmax(prediction).numpy()]\n",
        "    starting_characters += prediction_char\n",
        "    if prediction_char == '.':\n",
        "      break\n",
        "  # Remove last character(.) and uppercase first character    \n",
        "  print(starting_characters[:-1].capitalize())"
      ],
      "execution_count": 23,
      "outputs": []
    },
    {
      "cell_type": "code",
      "metadata": {
        "id": "faQ0FInlpt26",
        "colab": {
          "base_uri": "https://localhost:8080/"
        },
        "outputId": "6c2408c1-ddae-4e05-c24d-6a389770dbd3"
      },
      "source": [
        "generate_name('Rap')"
      ],
      "execution_count": 24,
      "outputs": [
        {
          "output_type": "stream",
          "text": [
            "Raptorex\n"
          ],
          "name": "stdout"
        }
      ]
    },
    {
      "cell_type": "markdown",
      "metadata": {
        "id": "SDjtKxm5G1Zu"
      },
      "source": [
        "## Generate the names with no input"
      ]
    },
    {
      "cell_type": "code",
      "metadata": {
        "id": "dD7DcpHiopOv"
      },
      "source": [
        "# remove the stop character(.) from char_to_index\n",
        "numbers_list = dict(char_to_index)\n",
        "del numbers_list['.']\n",
        "all_possible_characters = numbers_list.keys()\n",
        "def generate_list_of_names():\n",
        "  for char in all_possible_characters:\n",
        "    generate_name(char)\n"
      ],
      "execution_count": 25,
      "outputs": []
    },
    {
      "cell_type": "code",
      "metadata": {
        "colab": {
          "base_uri": "https://localhost:8080/"
        },
        "id": "YhgmmdTRoudl",
        "outputId": "194f0bde-599e-400d-ed68-61535a8fb549"
      },
      "source": [
        "generate_list_of_names()"
      ],
      "execution_count": 26,
      "outputs": [
        {
          "output_type": "stream",
          "text": [
            "Anasazisaurus\n",
            "Saurophaganax\n",
            "Unenlagia\n",
            "Ornithomimoides\n",
            "Rachitrema\n",
            "Nanyangosaurus\n",
            "Ischisaurus\n",
            "Europelta\n",
            "Tatankaceratops\n",
            "Lamplughsaura\n",
            "Palaeocursornis\n",
            "Huaxiagnathus\n",
            "Camptonotus\n",
            "Galveosaurus\n",
            "Dachongosaurus\n",
            "Mantellisaurus\n",
            "Yunnanosaurus\n",
            "Baryonyx\n",
            "Kulindapteryx\n",
            "Velociraptor\n",
            "Xinjiangtitan\n",
            "Zhuchengtyrannus\n",
            "Jiangshanosaurus\n",
            "Wulagasaurus\n",
            "Fukuisaurus\n",
            "Qinlingosaurus\n"
          ],
          "name": "stdout"
        }
      ]
    }
  ]
}